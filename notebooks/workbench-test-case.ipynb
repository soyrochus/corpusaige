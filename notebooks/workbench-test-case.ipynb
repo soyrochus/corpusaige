{
 "cells": [
  {
   "cell_type": "markdown",
   "id": "1a16fd4c",
   "metadata": {},
   "source": [
    "# Workbench using the Corpusaige library\n",
    "\n",
    "We will instantiate the config file _'corpus.ini'_ in {project}/test-case. This we we will use to get an instance of CorpusReader which will provide us the prompt to \"chat\" with the LLM using the local data store (as persisted in the Vector DB) "
   ]
  },
  {
   "cell_type": "markdown",
   "id": "0fc266be-34e5-49b6-9581-d06a1a216252",
   "metadata": {},
   "source": [
    "## Essential imports"
   ]
  },
  {
   "cell_type": "code",
   "execution_count": 4,
   "id": "f0cf0c4f",
   "metadata": {
    "vscode": {
     "languageId": "plaintext"
    }
   },
   "outputs": [],
   "source": [
    "from corpusaige.corpus import Corpus, CorpusReader\n",
    "from corpusaige.config import CorpusConfig, get_config"
   ]
  },
  {
   "cell_type": "markdown",
   "id": "96f0e6f5-e31e-44ee-bd5f-abf0daa2e6db",
   "metadata": {},
   "source": [
    "## Instantia Config (from the corpus.ini file) and the \"Chat\" Corpus (read-only with History)"
   ]
  },
  {
   "cell_type": "code",
   "execution_count": 6,
   "id": "c1489ec7-5f29-4798-9d9e-9616cd4953c9",
   "metadata": {},
   "outputs": [],
   "source": [
    "config = get_config(\"../test-case\")\n",
    "corpus = CorpusReader(config)"
   ]
  },
  {
   "cell_type": "markdown",
   "id": "65aeba75-2c12-495c-9d1c-e348c49974b7",
   "metadata": {},
   "source": [
    "## Example chat"
   ]
  },
  {
   "cell_type": "code",
   "execution_count": 7,
   "id": "94fc0e64-3da6-411e-93e4-fc077f076020",
   "metadata": {},
   "outputs": [
    {
     "name": "stdout",
     "output_type": "stream",
     "text": [
      "\n",
      "\n",
      "\n",
      "A channel is a designated area on a platform (e.g. a website, app, or social media site) where users can communicate and interact with each other. It usually includes a discussion forum, message board, or chatroom, and allows users to post content, comment on other posts, and engage with each other.\n",
      "\n"
     ]
    }
   ],
   "source": [
    "corpus.send_prompt(\"What is a Channel?\")"
   ]
  },
  {
   "cell_type": "code",
   "execution_count": null,
   "id": "0100a293-dc01-4983-b271-3ba48ecb59ff",
   "metadata": {},
   "outputs": [],
   "source": [
    "¨ "
   ]
  }
 ],
 "metadata": {
  "kernelspec": {
   "display_name": "Python 3 (ipykernel)",
   "language": "python",
   "name": "python3"
  },
  "language_info": {
   "codemirror_mode": {
    "name": "ipython",
    "version": 3
   },
   "file_extension": ".py",
   "mimetype": "text/x-python",
   "name": "python",
   "nbconvert_exporter": "python",
   "pygments_lexer": "ipython3",
   "version": "3.11.2"
  }
 },
 "nbformat": 4,
 "nbformat_minor": 5
}
