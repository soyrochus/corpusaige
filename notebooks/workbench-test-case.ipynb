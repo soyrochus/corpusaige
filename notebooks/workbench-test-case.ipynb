{
 "cells": [
  {
   "cell_type": "markdown",
   "id": "1a16fd4c",
   "metadata": {},
   "source": [
    "# Workbench using the Corpusaige library\n",
    "\n",
    "We will instantiate the config file _'corpus.ini'_ in {project}/test-case. This we we will use to get an instance of CorpusReader which will provide us the prompt to \"chat\" with the LLM using the local data store (as persisted in the Vector DB) "
   ]
  },
  {
   "cell_type": "markdown",
   "id": "0fc266be-34e5-49b6-9581-d06a1a216252",
   "metadata": {},
   "source": [
    "## Essential imports"
   ]
  },
  {
   "cell_type": "code",
   "execution_count": 2,
   "id": "f0cf0c4f",
   "metadata": {
    "vscode": {
     "languageId": "plaintext"
    }
   },
   "outputs": [],
   "source": [
    "from corpusaige.corpus import Corpus, CorpusReader\n",
    "from corpusaige.config import CorpusConfig, get_config"
   ]
  },
  {
   "cell_type": "markdown",
   "id": "96f0e6f5-e31e-44ee-bd5f-abf0daa2e6db",
   "metadata": {},
   "source": [
    "## Instantia Config (from the corpus.ini file) and the \"Chat\" Corpus (read-only with History)"
   ]
  },
  {
   "cell_type": "code",
   "execution_count": 3,
   "id": "c1489ec7-5f29-4798-9d9e-9616cd4953c9",
   "metadata": {},
   "outputs": [],
   "source": [
    "config = get_config(\"../test-case\")\n",
    "corpus = CorpusReader(config)"
   ]
  },
  {
   "cell_type": "markdown",
   "id": "65aeba75-2c12-495c-9d1c-e348c49974b7",
   "metadata": {},
   "source": [
    "## Example chat"
   ]
  },
  {
   "cell_type": "code",
   "execution_count": 4,
   "id": "94fc0e64-3da6-411e-93e4-fc077f076020",
   "metadata": {},
   "outputs": [
    {
     "name": "stdout",
     "output_type": "stream",
     "text": [
      "\n",
      "\n",
      "A trait is a characteristic or quality that is inherent to a person or thing. It is typically an enduring feature that remains consistent over time and across different situations.\n",
      "\n"
     ]
    }
   ],
   "source": [
    "corpus.send_prompt(\"What is a Trait?\")"
   ]
  },
  {
   "cell_type": "code",
   "execution_count": 6,
   "id": "0100a293-dc01-4983-b271-3ba48ecb59ff",
   "metadata": {},
   "outputs": [
    {
     "name": "stdout",
     "output_type": "stream",
     "text": [
      "\n",
      "\n",
      "A trait in Rust is a language construct that defines a set of methods that can be implemented by types in the language. Traits are used to provide shared behavior between different types and can also be used to define type relationships.\n",
      "\n"
     ]
    }
   ],
   "source": [
    "corpus.send_prompt(\"What is it in Rust?\")"
   ]
  },
  {
   "cell_type": "code",
   "execution_count": 8,
   "id": "624b70bb-7430-481a-a48d-37244448ad2f",
   "metadata": {},
   "outputs": [
    {
     "name": "stdout",
     "output_type": "stream",
     "text": [
      "\n",
      "\n",
      "\n",
      "I'm not sure, but I know that Traits in Rust allow developers to define a set of methods that can be shared across structs and enums. For example, the following code is an example of a trait called Animal that defines the method make_sound():\n",
      "\n",
      "trait Animal {\n",
      "    fn make_sound(&self);\n",
      "}\n",
      "\n",
      "struct Dog {\n",
      "    name: String,\n",
      "}\n",
      "\n",
      "impl Animal for Dog {\n",
      "    fn make_sound(&self) {\n",
      "        println!(\"Woof! I'm {}\", self.name);\n",
      "    }\n",
      "}\n",
      "\n",
      "struct Cat {\n",
      "    name: String,\n",
      "}\n",
      "\n",
      "impl Animal for Cat {\n",
      "    fn make_sound(&self) {\n",
      "        println!(\"Meow! I'm {}\", self.name);\n",
      "    }\n",
      "}\n",
      "\n"
     ]
    }
   ],
   "source": [
    "corpus.send_prompt(\"Provide an example as source code of the usage of Traits in Rust\")"
   ]
  },
  {
   "cell_type": "code",
   "execution_count": null,
   "id": "203aebae-26dc-4fbd-9c0a-cfa36a202c19",
   "metadata": {},
   "outputs": [],
   "source": []
  }
 ],
 "metadata": {
  "kernelspec": {
   "display_name": "Python 3 (ipykernel)",
   "language": "python",
   "name": "python3"
  },
  "language_info": {
   "codemirror_mode": {
    "name": "ipython",
    "version": 3
   },
   "file_extension": ".py",
   "mimetype": "text/x-python",
   "name": "python",
   "nbconvert_exporter": "python",
   "pygments_lexer": "ipython3",
   "version": "3.11.2"
  }
 },
 "nbformat": 4,
 "nbformat_minor": 5
}
