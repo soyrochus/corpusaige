{
 "cells": [
  {
   "cell_type": "markdown",
   "id": "417c205e-ba03-4089-aa09-294477641674",
   "metadata": {},
   "source": [
    "# Analysis of the Iris Dataset\n",
    "\n",
    "The Iris flower data set is a multivariate data set introduced by the British statistician and biologist Ronald Fisher. The data set consists of 50 samples from each of three species of Iris (Iris setosa, Iris virginica and Iris versicolor). Four features were measured from each sample: the lengths and the widths of the sepals and petals.\n",
    "\n",
    "Let's start by loading the data using the pandas library.\n"
   ]
  },
  {
   "cell_type": "code",
   "execution_count": null,
   "id": "c4261185-38ea-4769-97bc-39a1fcb39a90",
   "metadata": {},
   "outputs": [],
   "source": [
    "import pandas as pd\n",
    "\n",
    "url = \"https://archive.ics.uci.edu/ml/machine-learning-databases/iris/iris.data\"\n",
    "url = \"https://gist.githubusercontent.com/ricardosgouvea/1d2c2c68367ef66a3717b47c9f8f0f0f/raw/57609ddb53911c12ca1aab2dafbf81f53f70449b/Iris%2520Dataset%2520Machine%2520Learning\"\n",
    "names = ['sepal-length', 'sepal-width', 'petal-length', 'petal-width', 'class']\n",
    "dataset = pd.read_csv(url, names=names)\n"
   ]
  },
  {
   "cell_type": "markdown",
   "id": "b011a676-0f87-4009-aa27-618577cfceec",
   "metadata": {},
   "source": [
    "Now we can take a look at the first five rows of our data.\n"
   ]
  },
  {
   "cell_type": "code",
   "execution_count": null,
   "id": "bf8a3bbd-8b93-48e4-99eb-68fcb177f993",
   "metadata": {},
   "outputs": [],
   "source": [
    "dataset.head()\n"
   ]
  },
  {
   "cell_type": "markdown",
   "id": "1c6c3c99-a46a-4f67-bc06-b9128cfe33e0",
   "metadata": {},
   "source": [
    "We can compute some basic statistics on our data.\n"
   ]
  },
  {
   "cell_type": "code",
   "execution_count": null,
   "id": "758f160c-e8ad-40e8-9369-bd62da26a77a",
   "metadata": {},
   "outputs": [],
   "source": [
    "dataset.describe()\n"
   ]
  },
  {
   "cell_type": "markdown",
   "id": "a9e76a04-3f1a-42ac-a4cf-ebba8736abbc",
   "metadata": {},
   "source": [
    "Now let's visualize the data. We'll use a box and whisker plot to see the distribution of the input variables.\n"
   ]
  },
  {
   "cell_type": "code",
   "execution_count": null,
   "id": "c28fbe34-7d63-4c4c-9a60-a97b06a99767",
   "metadata": {},
   "outputs": [],
   "source": [
    "import matplotlib.pyplot as plt\n",
    "\n",
    "dataset.plot(kind='box', subplots=True, layout=(2,2), sharex=False, sharey=False)\n",
    "plt.show()\n"
   ]
  },
  {
   "cell_type": "markdown",
   "id": "259d090d-f7ba-492b-a84e-6a85f38d220a",
   "metadata": {},
   "source": [
    "As we can see from the plots, the petal measurements separate the different species more than the sepal ones.\n"
   ]
  },
  {
   "cell_type": "code",
   "execution_count": null,
   "id": "d61f6e0b-fc89-47cb-ac87-209d9028f58a",
   "metadata": {},
   "outputs": [],
   "source": []
  }
 ],
 "metadata": {
  "kernelspec": {
   "display_name": "Python 3 (ipykernel)",
   "language": "python",
   "name": "python3"
  },
  "language_info": {
   "codemirror_mode": {
    "name": "ipython",
    "version": 3
   },
   "file_extension": ".py",
   "mimetype": "text/x-python",
   "name": "python",
   "nbconvert_exporter": "python",
   "pygments_lexer": "ipython3",
   "version": "3.11.1"
  }
 },
 "nbformat": 4,
 "nbformat_minor": 5
}
