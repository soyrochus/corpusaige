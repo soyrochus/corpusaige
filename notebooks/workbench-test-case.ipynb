{
 "cells": [
  {
   "cell_type": "markdown",
   "id": "1a16fd4c",
   "metadata": {},
   "source": [
    "# Workbench using the Corpusaige library\n",
    "\n",
    "We will instantiate the config file _'corpus.ini'_ in {project}/test-case. This we we will use to get an instance of CorpusReader which will provide us the prompt to \"chat\" with the LLM using the local data store (as persisted in the Vector DB) "
   ]
  },
  {
   "cell_type": "markdown",
   "id": "0fc266be-34e5-49b6-9581-d06a1a216252",
   "metadata": {},
   "source": [
    "## Essential imports"
   ]
  },
  {
   "cell_type": "code",
   "execution_count": 1,
   "id": "f0cf0c4f",
   "metadata": {
    "vscode": {
     "languageId": "plaintext"
    }
   },
   "outputs": [],
   "source": [
    "from corpusaige.corpus import StatefullCorpus"
   ]
  },
  {
   "cell_type": "markdown",
   "id": "96f0e6f5-e31e-44ee-bd5f-abf0daa2e6db",
   "metadata": {},
   "source": [
    "## Instantiate Config (from the corpus.ini file) and the Stafefull Corpus (full interaction with AI with Chat History)"
   ]
  },
  {
   "cell_type": "code",
   "execution_count": 6,
   "id": "c1489ec7-5f29-4798-9d9e-9616cd4953c9",
   "metadata": {},
   "outputs": [
    {
     "name": "stdout",
     "output_type": "stream",
     "text": [
      "Using Corpus: \"Rust book(s)\" at /home/iwk/src/corpusaige/test-case/test-book/corpus.ini\n"
     ]
    }
   ],
   "source": [
    "corpus = StatefullCorpus(\"../test-case/test-book\")\n",
    "corpus.context_size = 20\n",
    "print(f'Using Corpus: \"{corpus.name}\" at {corpus.path.resolve()}')"
   ]
  },
  {
   "cell_type": "markdown",
   "id": "65aeba75-2c12-495c-9d1c-e348c49974b7",
   "metadata": {},
   "source": [
    "## Example chat"
   ]
  },
  {
   "cell_type": "code",
   "execution_count": 7,
   "id": "94fc0e64-3da6-411e-93e4-fc077f076020",
   "metadata": {},
   "outputs": [
    {
     "data": {
      "text/plain": [
       "\"A trait in Rust is a way to define shared behavior across types. It defines functionality that a particular type has and can share with other types. A trait is a collection of methods defined for an unknown type: Self. Traits allow to define shared behavior in an abstract way. Traits are similar to interfaces in other languages, with some differences. A type's behavior consists of the methods we can call on that type, and different types share the same behavior if we can call the same methods on all of those types. Trait definitions are a way to group method signatures together to define a set of behaviors necessary to accomplish some purpose.\""
      ]
     },
     "execution_count": 7,
     "metadata": {},
     "output_type": "execute_result"
    }
   ],
   "source": [
    "corpus.send_prompt(\"What is a Trait?\")"
   ]
  },
  {
   "cell_type": "code",
   "execution_count": 8,
   "id": "0100a293-dc01-4983-b271-3ba48ecb59ff",
   "metadata": {},
   "outputs": [
    {
     "data": {
      "text/plain": [
       "'A trait in Rust is a collection of methods defined for an unknown type: Self. These methods can access other methods declared in the same trait. Traits serve a purpose similar to interfaces in other languages, but are more powerful because they can also include default implementations. Traits are used to define shared behavior across types.'"
      ]
     },
     "execution_count": 8,
     "metadata": {},
     "output_type": "execute_result"
    }
   ],
   "source": [
    "corpus.send_prompt(\"What is it in Rust?\")"
   ]
  },
  {
   "cell_type": "code",
   "execution_count": 12,
   "id": "624b70bb-7430-481a-a48d-37244448ad2f",
   "metadata": {},
   "outputs": [
    {
     "name": "stdout",
     "output_type": "stream",
     "text": [
      "Sure, let's consider a simple example where we define a `Summary` trait and then implement it for a `NewsArticle` type:\n",
      "\n",
      "```rust\n",
      "// Define the trait\n",
      "pub trait Summary {\n",
      "    fn summarize(&self) -> String;\n",
      "}\n",
      "\n",
      "// Define a NewsArticle type\n",
      "pub struct NewsArticle {\n",
      "    pub headline: String,\n",
      "    pub location: String,\n",
      "    pub content: String,\n",
      "}\n",
      "\n",
      "// Implement the Summary trait for the NewsArticle type\n",
      "impl Summary for NewsArticle {\n",
      "    fn summarize(&self) -> String {\n",
      "        format!(\"{}, by {} ({})\", self.headline, self.location, self.content)\n",
      "    }\n",
      "}\n",
      "\n",
      "fn main() {\n",
      "    let article = NewsArticle {\n",
      "        headline: String::from(\"Penguins win the Stanley Cup Championship!\"),\n",
      "        location: String::from(\"Pittsburgh, PA, USA\"),\n",
      "        content: String::from(\"The Pittsburgh Penguins once again are the best\n",
      "        hockey team in the NHL.\"),\n",
      "    };\n",
      "\n",
      "    // we can now call the summarize method that we defined through the Summary trait\n",
      "    println!(\"New article available! {}\", article.summarize());\n",
      "}\n",
      "```\n",
      "In this example, `Summary` is a trait that encapsulates the behavior of being able to generate a summary. We then implement this trait for the `NewsArticle` struct, which means that we define what the `summarize` method does for a `NewsArticle`. Finally, in the `main` function, we create a `NewsArticle` instance and call the `summarize` method on it.\n"
     ]
    }
   ],
   "source": [
    "print(corpus.send_prompt(\"Provide an example as source code of the usage of Traits in Rust\"))"
   ]
  },
  {
   "cell_type": "code",
   "execution_count": null,
   "id": "203aebae-26dc-4fbd-9c0a-cfa36a202c19",
   "metadata": {},
   "outputs": [],
   "source": []
  }
 ],
 "metadata": {
  "kernelspec": {
   "display_name": "Python 3 (ipykernel)",
   "language": "python",
   "name": "python3"
  },
  "language_info": {
   "codemirror_mode": {
    "name": "ipython",
    "version": 3
   },
   "file_extension": ".py",
   "mimetype": "text/x-python",
   "name": "python",
   "nbconvert_exporter": "python",
   "pygments_lexer": "ipython3",
   "version": "3.11.4"
  }
 },
 "nbformat": 4,
 "nbformat_minor": 5
}
